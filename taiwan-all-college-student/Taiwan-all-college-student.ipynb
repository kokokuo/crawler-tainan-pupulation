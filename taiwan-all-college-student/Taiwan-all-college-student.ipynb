{
 "cells": [
  {
   "cell_type": "code",
   "execution_count": 37,
   "metadata": {
    "collapsed": false
   },
   "outputs": [
    {
     "name": "stdout",
     "output_type": "stream",
     "text": [
      "全國，所有大專院校學生： 1345973\n"
     ]
    }
   ],
   "source": [
    "# -*- coding:utf-8 -*-\n",
    "import requests\n",
    "from bs4 import BeautifulSoup\n",
    "\n",
    "# 計算此網頁的全國大專院校學生總數\n",
    "url = requests.get('http://ricelohas.blogspot.tw/2014/01/102.html')\n",
    "\n",
    "total_college = 0\n",
    "soup =  BeautifulSoup(url.content, \"html.parser\")\n",
    "# 資料在table下tr td:nth-child(4)中的child span span\n",
    "tr_list = soup.find('table').find_all('tr')\n",
    "# 掠過第一筆（因為是標題）\n",
    "for tr in tr_list[1:]:\n",
    "    # 取得各5筆的td\n",
    "    td_list = tr.find_all('td')[4::5]\n",
    "    for td in td_list:\n",
    "        for span in td.select('span span'):\n",
    "            total_college += int(span.text.replace(',',''))\n",
    "\n",
    "print '全國，所有大專院校學生： %d' % total_college"
   ]
  },
  {
   "cell_type": "code",
   "execution_count": null,
   "metadata": {
    "collapsed": true
   },
   "outputs": [],
   "source": []
  }
 ],
 "metadata": {
  "kernelspec": {
   "display_name": "Python 2",
   "language": "python",
   "name": "python2"
  },
  "language_info": {
   "codemirror_mode": {
    "name": "ipython",
    "version": 2
   },
   "file_extension": ".py",
   "mimetype": "text/x-python",
   "name": "python",
   "nbconvert_exporter": "python",
   "pygments_lexer": "ipython2",
   "version": "2.7.10"
  }
 },
 "nbformat": 4,
 "nbformat_minor": 0
}
