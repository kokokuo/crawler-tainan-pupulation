{
 "cells": [
  {
   "cell_type": "code",
   "execution_count": 23,
   "metadata": {
    "collapsed": false
   },
   "outputs": [
    {
     "name": "stdout",
     "output_type": "stream",
     "text": [
      "<type 'str'>\n",
      "<type 'unicode'>\n",
      "內新里 1,788\n",
      "內興里 8,047\n",
      "光明里 1,284\n",
      "光華里 1,132\n",
      "光榮里 1,402\n",
      "光輝里 695\n",
      "營北里 7,387\n",
      "營南里 2,750\n"
     ]
    }
   ],
   "source": [
    "# -*- coding:utf-8 -*-\n",
    "import requests\n",
    "from bs4 import BeautifulSoup\n",
    "\n",
    "url = 'http://nthr.nantou.gov.tw/CustomerSet/032_population/u_population_v.asp'\n",
    "id = \"?id={8C3E3E30-CA6D-4819-87D7-CC6C52B1EA67}\"\n",
    "\n",
    "find_location = [\n",
    "    u\"光輝里\",\n",
    "    u\"光華里\",\n",
    "    u\"光榮里\",\n",
    "    u\"光明里\",\n",
    "    u\"營北里\",\n",
    "    u\"營南里\",\n",
    "    u\"內新里\",\n",
    "    u\"內興里\"\n",
    "    ]\n",
    "\n",
    "res = requests.get(url + id +\"&yy=102&&mm=08\")\n",
    "# str type\n",
    "print type(res.content)\n",
    "# 需傳入content才會正確產生格式\n",
    "soup = BeautifulSoup(res.content,\"html.parser\")\n",
    "# utf-8\n",
    "print type(soup.original_encoding)\n",
    "# 印出內容\n",
    "# print soup.contents\n",
    "table = soup.find('table',attrs = {'class':'C-tableA0'})\n",
    "\n",
    "for tr in table.select('tr'):\n",
    "    for location in find_location:\n",
    "        #比對此row是否有包含欲尋找的里名稱         \n",
    "        if tr.find(string=location):\n",
    "            # 取出 list td             \n",
    "            td_list = tr.find_all('td')\n",
    "            # 顯示名稱與總人口數             \n",
    "            print td_list[0].text,td_list[-1].text\n",
    "                \n",
    "        \n",
    "\n",
    "    # td.get_text() or text will not show unicode encode ,it will show real text  \n",
    "\n",
    "    "
   ]
  },
  {
   "cell_type": "code",
   "execution_count": null,
   "metadata": {
    "collapsed": true
   },
   "outputs": [],
   "source": []
  }
 ],
 "metadata": {
  "kernelspec": {
   "display_name": "Python 2",
   "language": "python",
   "name": "python2"
  },
  "language_info": {
   "codemirror_mode": {
    "name": "ipython",
    "version": 2
   },
   "file_extension": ".py",
   "mimetype": "text/x-python",
   "name": "python",
   "nbconvert_exporter": "python",
   "pygments_lexer": "ipython2",
   "version": "2.7.10"
  }
 },
 "nbformat": 4,
 "nbformat_minor": 0
}
